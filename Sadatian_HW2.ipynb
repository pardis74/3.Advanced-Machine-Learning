{
 "cells": [
  {
   "cell_type": "code",
   "execution_count": null,
   "id": "28e0747b-f40f-4627-b5fd-0693600b4ee0",
   "metadata": {},
   "outputs": [],
   "source": []
  }
 ],
 "metadata": {
  "kernelspec": {
   "display_name": "",
   "name": ""
  },
  "language_info": {
   "name": ""
  }
 },
 "nbformat": 4,
 "nbformat_minor": 5
}
