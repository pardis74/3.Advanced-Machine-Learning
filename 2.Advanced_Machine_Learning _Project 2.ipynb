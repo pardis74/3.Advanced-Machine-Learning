{
 "cells": [
  {
   "cell_type": "code",
   "execution_count": 1,
   "id": "28e0747b-f40f-4627-b5fd-0693600b4ee0",
   "metadata": {},
   "outputs": [
    {
     "name": "stdout",
     "output_type": "stream",
     "text": [
      "212.08931286114526\n"
     ]
    }
   ],
   "source": [
    "from sklearn.model_selection import train_test_split\n",
    "from sklearn.model_selection import KFold\n",
    "from sklearn.model_selection import cross_val_score\n",
    "from sklearn.linear_model import LinearRegression\n",
    "from numpy import mean\n",
    "from numpy import absolute\n",
    "from numpy import sqrt\n",
    "import pandas as pd\n",
    "\n",
    "Country = ['Iceland', 'Denmark', 'Costa Rica', 'New Zealand', 'Canada', 'United Kingdom', 'Luxembourg', 'Belgium', 'Ireland', 'Austria']\n",
    "\n",
    "Population_By_Age_P = [15.47, 19.91, 8.76, 15.54, 18.98, 18.48, 15.37, 19.21, 19.87, 19.87]\n",
    "\n",
    "Hospital_bed = [2.8, 2.6, 1.1, 2.6, 2.5, 2.5, 4.3, 5.6, 3.0, 7.3]\n",
    "\n",
    "Covid_deaths = [211, 8304, 9214, 2544, 51397, 219721, 1215 , 33717, 8655, 21872]\n",
    "\n",
    "#in Here we creat a pandas DataFrame that contains two predictor variables, x1 and x2, and a single response variable y\n",
    "df = pd.DataFrame({'y': [211, 8304, 9214, 2544, 51397, 219721, 1215, 33717, 8655, 21872],\n",
    "                   'x1': [15.47, 19.91, 8.76, 15.54, 18.98, 18.48, 15.37, 19.21, 19.87, 19.87],\n",
    "                   'x2': [2.8, 2.6, 1.1, 2.6, 2.5, 2.5, 4.3, 5.6, 3.0, 7.3]})\n",
    "\n",
    "#Now we need multiple linear regression to the data set to find out which linear regression is fit to the data \n",
    "\n",
    "X = df[['x1', 'x2']]\n",
    "y = df['y']\n",
    "\n",
    "#define cross-validation method to use\n",
    "#(CV) object cv using the KFold class from scikit-learn. The KFold class implements k-fold cross-validation, which is a technique used to evaluate the performance of a machine learning model.\n",
    "#n_splits is the numbers of fold, the data splits to 5 folds\n",
    "\n",
    "#random_state: an integer that is used to seed the random number generator used to split the data. \n",
    "#Setting this parameter to a fixed value ensures that the same splits are used every time the code is run. \n",
    "\n",
    "#shuffle: a boolean that determines whether to shuffle the data before splitting it into folds. \n",
    "#Setting this parameter to True shuffles the data randomly before splitting it into folds, which can help to reduce bias in the model evaluation\n",
    "cv = KFold(n_splits=5, random_state=1, shuffle=True)\n",
    "\n",
    "#build multiple linear regression model\n",
    "model = LinearRegression()\n",
    "\n",
    "#use k-fold CV to evaluate model\n",
    "#This code uses cross_val_score, function from scikit-learn's model_selection. module to perform k-fold cross-validation.\n",
    "\n",
    "#The model object is the model to be evaluated, X is the feature matrix, y is the target variable. \n",
    "\n",
    "#scoring='neg_mean_absolute_error' specifies the scoring metric to be used (negative mean absolute error)\n",
    "\n",
    "#cv is the number of folds to be used in the cross-validation\n",
    "\n",
    "scores = cross_val_score(model, X, y, scoring='neg_mean_absolute_error',\n",
    "                         cv=cv)\n",
    "\n",
    "#Here is our mean absolute scores\n",
    "\n",
    "error  = sqrt(mean(absolute(scores)))\n",
    "\n",
    "print (error)"
   ]
  },
  {
   "cell_type": "code",
   "execution_count": null,
   "id": "662f8fd3-3fa7-4c0b-9690-e577bdcfe91e",
   "metadata": {},
   "outputs": [],
   "source": []
  }
 ],
 "metadata": {
  "kernelspec": {
   "display_name": "Python 3 (ipykernel)",
   "language": "python",
   "name": "python3"
  },
  "language_info": {
   "codemirror_mode": {
    "name": "ipython",
    "version": 3
   },
   "file_extension": ".py",
   "mimetype": "text/x-python",
   "name": "python",
   "nbconvert_exporter": "python",
   "pygments_lexer": "ipython3",
   "version": "3.12.7"
  }
 },
 "nbformat": 4,
 "nbformat_minor": 5
}
